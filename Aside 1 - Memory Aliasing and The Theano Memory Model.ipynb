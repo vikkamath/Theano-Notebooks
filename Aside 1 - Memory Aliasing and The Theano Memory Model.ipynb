{
 "metadata": {
  "name": ""
 },
 "nbformat": 3,
 "nbformat_minor": 0,
 "worksheets": [
  {
   "cells": [
    {
     "cell_type": "markdown",
     "metadata": {},
     "source": [
      "# (Aside:) Memory Aliasing and The Theano Memory Model"
     ]
    },
    {
     "cell_type": "markdown",
     "metadata": {},
     "source": [
      "Theano improves its performance by aggressively resuing memory wherever it can. It is therefore imperative that we understand\n",
      "how exactly Theano aliases buffers - to ensure that our program is both correct and efficient. \n",
      "\n",
      "#### The Memory Model: Two Spaces\n",
      "TL;DR - Theano manages it's own pool of memory and keeps track of changes made to this pool. \n",
      "\n",
      "+  Theano manages it's own memory space, which typically doesn't overlap with the memory of normal python variables that non Theano code creates  \n",
      "\n",
      "+  Theano's functions only modify buffers that are in Theano's memory space.   \n",
      "\n",
      "+  Theano's memory space includes the buffers allocated to store shared variables and the temporaries used to evaluate functions\n",
      "\n",
      "+  Physically, Theano's memory may be spread across the host, a GPU device and possibly in the future, spread across multiple remote machines.   \n",
      "\n",
      "+  The memory allocated for a shared variable buffer is unique. It is never aliased to another shared variable.   \n",
      "\n",
      "+  Theano's managed memory is constant while Theano functions are not running and Theano's library code is not running.   \n",
      "\n",
      "+  The default behavior for a function is to return user-space values for outputs and to expect user-space values for inputs  \n",
      "\n",
      "+  The distinction between Theano-managed memory and user-managed memory can be broken down by some Theano functions \n",
      "(e.g. <code>shared</code>, <code>get_value</code> and the constructors for 'in' and 'out') by using a <code>borrow = True</code> flag . \n",
      "\n",
      "+ Althought the point above makes the program faster by allowing it to avoid copy operations, risky bugs might be introduced\n",
      "in the program by doing so (by aliasing memory). "
     ]
    },
    {
     "cell_type": "markdown",
     "metadata": {},
     "source": [
      "## 1. Borrowing when creating shared variables.  \n",
      "\n",
      "A <code> borrow </code> argument can be passed to the shared variable constructor. By default and equivalently when setting <code> borrow = False </code> , the shared variable that we create gets a __deep copy__ of the object in question (here, <code> np_array </code>) - this has the effect that any change made directly to the object (<code> np_array </code>) will have no effect on the shared variable. Go though (meticulously) the example below. "
     ]
    },
    {
     "cell_type": "code",
     "collapsed": false,
     "input": [
      "import numpy as np\n",
      "import theano\n",
      "np_array = np.ones(3, dtype='float32') #np_array is an array of ones (1x3)\n",
      "\n",
      "s_default = theano.shared(np_array) #This makes a deep copy - this is the default behavior\n",
      "s_false   = theano.shared(np_array, borrow=False) #This is superflous. 'False' is the default behavior\n",
      "s_true    = theano.shared(np_array, borrow=True) #Aliases the original object (np_array). "
     ],
     "language": "python",
     "metadata": {},
     "outputs": [],
     "prompt_number": 10
    },
    {
     "cell_type": "raw",
     "metadata": {},
     "source": [
      "Let's now play with np_array and see what effect it has on the three shared variables"
     ]
    },
    {
     "cell_type": "code",
     "collapsed": false,
     "input": [
      "np_array += 1 #np_array now becomes an array of 2's (1x3)\n",
      "\n",
      "s_default.get_value() #Since the default behavior was to make a deep copy, this prints the 1x3 ones array\n"
     ],
     "language": "python",
     "metadata": {},
     "outputs": [
      {
       "metadata": {},
       "output_type": "pyout",
       "prompt_number": 11,
       "text": [
        "array([ 1.,  1.,  1.], dtype=float32)"
       ]
      }
     ],
     "prompt_number": 11
    },
    {
     "cell_type": "code",
     "collapsed": false,
     "input": [
      "s_false.get_value() #Since we explicitly (albeit superflously) asked to make a deep copy, this prints a 1x3 too"
     ],
     "language": "python",
     "metadata": {},
     "outputs": [
      {
       "metadata": {},
       "output_type": "pyout",
       "prompt_number": 12,
       "text": [
        "array([ 1.,  1.,  1.], dtype=float32)"
       ]
      }
     ],
     "prompt_number": 12
    },
    {
     "cell_type": "code",
     "collapsed": false,
     "input": [
      "s_true.get_value() #But here, since we set borrow=True, np_array was aliased and this prints the changed np_array"
     ],
     "language": "python",
     "metadata": {},
     "outputs": [
      {
       "metadata": {},
       "output_type": "pyout",
       "prompt_number": 13,
       "text": [
        "array([ 2.,  2.,  2.], dtype=float32)"
       ]
      }
     ],
     "prompt_number": 13
    },
    {
     "cell_type": "markdown",
     "metadata": {},
     "source": [
      "### Notes:   \n",
      "\n",
      "* If this code is run on a CPU as the device, the changes we make to <code>np_array</code> will show up immediately on <code> s_true.get_value()</code> because Numpy arrays are mutable and s_true is using the Numpy array <code>np_array</code> as it's internal buffer.    \n",
      "\n",
      "* It should however be noted that this aliasing of <code>np_array</code> and <code>s_true</code> is not guaranteed to occur and may occur temporarily if it occurs at al\n",
      "\n",
      "- It is __not guaranteed__ to occur because if Theano is running on a GPU then the <code>borrow</code> flag has __no effect__!\n",
      "\n",
      "- It may __occur temporarily__ because if we call a function that modifies the value of <code>s_true</code>, the aliasing relationship *may or may not* be broken. This is because the function is allowed to modify the shared variable (<code>s_true</code>) by either modifying the buffer that <code>s_true</code> uses (which preserves this aliasing) or by changing which buffer (<code>s_true</code>) points to (which will terminate this aliasing). \n",
      "\n",
      "#### The Moral of the Story:\n",
      "\n",
      "* It's a safe practice and a good idea to use <code>borrow = True</code> in a shared variable constructor when the shared variable stands for a large object (in terms of memory footprint) - in which case, creating copies of this object isn't something you really want to do. \n",
      "\n",
      "* It is not a reliable technique to use <code>borrow=True</code> to modify shared variables through side-effects because with some devices (e.g. GPU devices), this may not work. "
     ]
    },
    {
     "cell_type": "markdown",
     "metadata": {},
     "source": [
      "## 2. Borrowing when accessing the values of shared variables. "
     ]
    },
    {
     "cell_type": "markdown",
     "metadata": {},
     "source": [
      "A <code>borrow</code> can also be used to specify how the value of a shared variable is retrieved.  \n",
      "\n",
      "When <code>borrow=False</code> is passed to <code>get_value</code>, it means that the return value may not be aliased to any part of Theano's internal memory. When <code>borrow=True</code> it means that the return value *might* be aliased to Theano's internal memory. But both these calls might end up creating copies of the internal memory. \n",
      "\n",
      "The reason that <code>borrow=True</code> might create a copy of the internal memory is because Theano might lay out a shared varible in memory using an internal representation that you do not expect. When you create a shared variable by passing a Numpy array for example, then <code>get_value()</code> might return a Numpy array too - this is how Theano can make the GPU use transparent. (I don't understand this). But when your are using a GPU (or perhaps in the future, remote machines), then <code>numpy.ndarray</code> isn't the internal representation of your data. If you really want Theano to return the internal representation and to never make a copy, you can use the <code>return_internal_type=True</code> argument to <code>get_value</code>"
     ]
    },
    {
     "cell_type": "code",
     "collapsed": false,
     "input": [],
     "language": "python",
     "metadata": {},
     "outputs": []
    }
   ],
   "metadata": {}
  }
 ]
}