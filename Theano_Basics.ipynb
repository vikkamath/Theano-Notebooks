{
 "metadata": {
  "name": "",
  "signature": "sha256:f3d54badd2837a4e6d972dda7a5df6551a21d44bd09ec6a54a45c2aeeb196177"
 },
 "nbformat": 3,
 "nbformat_minor": 0,
 "worksheets": [
  {
   "cells": [
    {
     "cell_type": "code",
     "collapsed": false,
     "input": [
      "from theano import *"
     ],
     "language": "python",
     "metadata": {},
     "outputs": [],
     "prompt_number": 1
    },
    {
     "cell_type": "code",
     "collapsed": false,
     "input": [
      "import theano.tensor as T"
     ],
     "language": "python",
     "metadata": {},
     "outputs": [],
     "prompt_number": 2
    },
    {
     "cell_type": "raw",
     "metadata": {},
     "source": [
      "theano.tensor allows you to create theano base data structures - see \n",
      "http://deeplearning.net/software/theano/library/tensor/basic.html#libdoc-basic-tensor for more details"
     ]
    },
    {
     "cell_type": "raw",
     "metadata": {},
     "source": [
      "Let's create a float-64 2D matrix \n",
      "\n",
      "<NOTE:> In theano, you first express everything symbolically and afterwords compile these expressions to get functions and variables. So some things (for example using Pseudo Random numbers) aren't as straightforward. "
     ]
    },
    {
     "cell_type": "code",
     "collapsed": false,
     "input": [
      "x = T.dmatrix('x')"
     ],
     "language": "python",
     "metadata": {},
     "outputs": [],
     "prompt_number": 3
    },
    {
     "cell_type": "raw",
     "metadata": {},
     "source": [
      "We'll now define the logistic function. Notice the use of the 'function' keyword. The 'function' keyword belongs to \n",
      "theano.compile and returns an object that calculates inputs from outputs"
     ]
    },
    {
     "cell_type": "code",
     "collapsed": false,
     "input": [
      "s = 1 / (1 + T.exp(-x)) \n",
      "logistic = function([x],s)"
     ],
     "language": "python",
     "metadata": {},
     "outputs": [],
     "prompt_number": 4
    },
    {
     "cell_type": "code",
     "collapsed": false,
     "input": [
      "logistic([[0,1]])"
     ],
     "language": "python",
     "metadata": {},
     "outputs": [
      {
       "metadata": {},
       "output_type": "pyout",
       "prompt_number": 5,
       "text": [
        "array([[ 0.5       ,  0.73105858]])"
       ]
      }
     ],
     "prompt_number": 5
    },
    {
     "cell_type": "raw",
     "metadata": {},
     "source": [
      "The above processes logistic(0) and logistic(1). Notice the double brackets when we call logistic. That's how numpy arrays are typeset."
     ]
    },
    {
     "cell_type": "raw",
     "metadata": {},
     "source": [
      "Now let's generate multiple matrices. You can use the plural form of the tensors in theano.tensor to generate multiple matrices - although the theano reference suggests that it isn't so common to do so  [Citation needed]"
     ]
    },
    {
     "cell_type": "code",
     "collapsed": false,
     "input": [
      "a,b = T.dmatrices('a','b')"
     ],
     "language": "python",
     "metadata": {},
     "outputs": [],
     "prompt_number": 6
    },
    {
     "cell_type": "raw",
     "metadata": {},
     "source": [
      "dmatrices produces as many outputs as the names you provide. It is a shortcut for allocating symbolic variables that we will often use in the tutorial (from the deeplearning.net tutorial)"
     ]
    },
    {
     "cell_type": "raw",
     "metadata": {},
     "source": [
      "Let us now define multiple operators on matrices (or tensors) and have them bundled up in one nice little function"
     ]
    },
    {
     "cell_type": "code",
     "collapsed": false,
     "input": [
      "diff = a-b #Performs element-wise difference on two tensors"
     ],
     "language": "python",
     "metadata": {},
     "outputs": [],
     "prompt_number": 7
    },
    {
     "cell_type": "code",
     "collapsed": false,
     "input": [
      "abs_diff = abs(diff) #Intuitive!"
     ],
     "language": "python",
     "metadata": {},
     "outputs": [],
     "prompt_number": 8
    },
    {
     "cell_type": "code",
     "collapsed": false,
     "input": [
      "diff_squared = diff**diff #'nuff said!"
     ],
     "language": "python",
     "metadata": {},
     "outputs": [],
     "prompt_number": 9
    },
    {
     "cell_type": "code",
     "collapsed": false,
     "input": [
      "f = function([a,b],[abs_diff,diff_squared]) #Notice how they're both lists!"
     ],
     "language": "python",
     "metadata": {},
     "outputs": [],
     "prompt_number": 10
    },
    {
     "cell_type": "raw",
     "metadata": {},
     "source": [
      "Let us now use this function on some dummy data. Note the multiple layers of brackets - it's one of the things I kinda hate about numpy! - but it's something that we'll have to put up with"
     ]
    },
    {
     "cell_type": "code",
     "collapsed": false,
     "input": [
      "f([[0,1],[2,3]]) #Try and run this. See what happens! Be wary of these kinds of mistakes!"
     ],
     "language": "python",
     "metadata": {},
     "outputs": [
      {
       "ename": "TypeError",
       "evalue": "Missing required input: b",
       "output_type": "pyerr",
       "traceback": [
        "\u001b[1;31m---------------------------------------------------------------------------\u001b[0m\n\u001b[1;31mTypeError\u001b[0m                                 Traceback (most recent call last)",
        "\u001b[1;32m<ipython-input-11-bbe83fecb3ac>\u001b[0m in \u001b[0;36m<module>\u001b[1;34m()\u001b[0m\n\u001b[1;32m----> 1\u001b[1;33m \u001b[0mf\u001b[0m\u001b[1;33m(\u001b[0m\u001b[1;33m[\u001b[0m\u001b[1;33m[\u001b[0m\u001b[1;36m0\u001b[0m\u001b[1;33m,\u001b[0m\u001b[1;36m1\u001b[0m\u001b[1;33m]\u001b[0m\u001b[1;33m,\u001b[0m\u001b[1;33m[\u001b[0m\u001b[1;36m2\u001b[0m\u001b[1;33m,\u001b[0m\u001b[1;36m3\u001b[0m\u001b[1;33m]\u001b[0m\u001b[1;33m]\u001b[0m\u001b[1;33m)\u001b[0m \u001b[1;31m#Try and run this. See what happens! Be wary of these kinds of mistakes!\u001b[0m\u001b[1;33m\u001b[0m\u001b[0m\n\u001b[0m",
        "\u001b[1;32m/home/kamathv1/local/lib/python2.7/site-packages/theano/compile/function_module.py\u001b[0m in \u001b[0;36m__call__\u001b[1;34m(self, *args, **kwargs)\u001b[0m\n\u001b[0;32m    563\u001b[0m                     raise TypeError(\"Missing required input: %s\" %\n\u001b[0;32m    564\u001b[0m                                     getattr(self.inv_finder[c], 'variable',\n\u001b[1;32m--> 565\u001b[1;33m                                             self.inv_finder[c]))\n\u001b[0m\u001b[0;32m    566\u001b[0m                 \u001b[1;32mif\u001b[0m \u001b[0mc\u001b[0m\u001b[1;33m.\u001b[0m\u001b[0mprovided\u001b[0m \u001b[1;33m>\u001b[0m \u001b[1;36m1\u001b[0m\u001b[1;33m:\u001b[0m\u001b[1;33m\u001b[0m\u001b[0m\n\u001b[0;32m    567\u001b[0m                     raise TypeError(\"Multiple values for input: %s\" %\n",
        "\u001b[1;31mTypeError\u001b[0m: Missing required input: b"
       ]
      }
     ],
     "prompt_number": 11
    },
    {
     "cell_type": "code",
     "collapsed": false,
     "input": [
      "f([[0,1]],[[2,3]])"
     ],
     "language": "python",
     "metadata": {},
     "outputs": []
    },
    {
     "cell_type": "raw",
     "metadata": {},
     "source": [
      "Let's now run this on two separate batches of arrays. The operations defined by 'f' are run separately for them both. \n",
      "- I find this pretty cool!"
     ]
    },
    {
     "cell_type": "code",
     "collapsed": false,
     "input": [
      "f([[0,1],[2,3]],[[5,6],[7,8]]) "
     ],
     "language": "python",
     "metadata": {},
     "outputs": []
    },
    {
     "cell_type": "raw",
     "metadata": {},
     "source": [
      "The 'param' class allows you to specify the properties of function parameters of your functions with greater detail. \n",
      "Below is an example that shows how parameters' default values are specified and variable names are overridden"
     ]
    },
    {
     "cell_type": "code",
     "collapsed": false,
     "input": [
      "from theano import Param\n",
      "x,y,w = T.dscalars('x','y','w')\n",
      "z = (x+y)*w\n",
      "f = function([x,Param(y,default=1),Param(w,default=2,name=\"w_by_name\")],z)"
     ],
     "language": "python",
     "metadata": {},
     "outputs": []
    },
    {
     "cell_type": "raw",
     "metadata": {},
     "source": [
      "Param does not know the name of the local variables y and w that are passed as arguments. The symbolic variable objects have name attributes (set by dscalars in the example above) and these are the names of the keyword parameters in the functions that we build. This is the mechanism at work in Param(y, default=1). In the case of Param(w, default=2, name='w_by_name'). We override the symbolic variable\u2019s name attribute with a name to be used for this function"
     ]
    },
    {
     "cell_type": "code",
     "collapsed": false,
     "input": [
      "f(1) #Prints z = (1+1)*2 = 4"
     ],
     "language": "python",
     "metadata": {},
     "outputs": []
    },
    {
     "cell_type": "code",
     "collapsed": false,
     "input": [
      "f(1,2) #Prints z= (1+2)*2 = 6"
     ],
     "language": "python",
     "metadata": {},
     "outputs": []
    },
    {
     "cell_type": "code",
     "collapsed": false,
     "input": [
      "f(2,w_by_name = 10, y=1) #See how this works?"
     ],
     "language": "python",
     "metadata": {},
     "outputs": []
    },
    {
     "cell_type": "markdown",
     "metadata": {},
     "source": [
      "##Shared Variables "
     ]
    },
    {
     "cell_type": "raw",
     "metadata": {},
     "source": [
      "To make a function with (say) internal state, it is useful to have 'shared' variables. Shared variables, (as the name suggests) allow a variable (and hence it's value) to be shared across multiple functions. Shared variables are created with the constructor 'shared()'. The value of a shared variable can be accessed and manipulated by the interfaces <varname>.get_value() and <varname>.set_value() respectively. The examples below will clear this up."
     ]
    },
    {
     "cell_type": "code",
     "collapsed": false,
     "input": [
      "from theano import shared"
     ],
     "language": "python",
     "metadata": {},
     "outputs": []
    },
    {
     "cell_type": "code",
     "collapsed": false,
     "input": [
      "state = shared(0)"
     ],
     "language": "python",
     "metadata": {},
     "outputs": []
    },
    {
     "cell_type": "code",
     "collapsed": false,
     "input": [
      "inc = T.iscalar('inc') #Create an integer-scalar (32 bit integer)"
     ],
     "language": "python",
     "metadata": {},
     "outputs": []
    },
    {
     "cell_type": "code",
     "collapsed": false,
     "input": [
      "accumulator = function([inc],state,updates=[(state,state+inc)]) #Read desc below"
     ],
     "language": "python",
     "metadata": {},
     "outputs": []
    },
    {
     "cell_type": "raw",
     "metadata": {},
     "source": [
      "Note: 'updates' is a parameter to 'function' and is basically a set of tuples (not in the python sense) of the form (<shared_var>,<new_expression>). It can also be a dictionary whose keys are the shared variables and values are the new expressions. What it basically translates to is:\n",
      "\"Whenever this function runs, replace the value of the shared variable by the output of the 'new expression'\"\n",
      "The new expression (usually) is written so as to somehow update the value of the shared variable. \n",
      "\n",
      "The expression above increments the value of the shared variable (here, 'state') by the value of the increment passed to the function (here, 'inc'). \n",
      "\n",
      "According to the theano documentation, the 'updates' mechanism exists for efficiency (having the side effect of being syntactically convenient). Updates to shared variables can (apparently) be done extremely efficiently by means of 'low rank matrix updates'. Also, Theano has pretty great control over where these shared variables are stored - which makes Theano's performance on a GPU pretty kickass. "
     ]
    },
    {
     "cell_type": "code",
     "collapsed": false,
     "input": [
      "state.get_value() #Prints the value currently contained in 'state', the shared variable"
     ],
     "language": "python",
     "metadata": {},
     "outputs": []
    },
    {
     "cell_type": "code",
     "collapsed": false,
     "input": [
      "accumulator(10) #Here, inc = 10. 'State' is updated by incrementing it by 'inc' (10)"
     ],
     "language": "python",
     "metadata": {},
     "outputs": []
    },
    {
     "cell_type": "code",
     "collapsed": false,
     "input": [
      "state.get_value() #Let's see what 'state' contains. No surprise here. "
     ],
     "language": "python",
     "metadata": {},
     "outputs": []
    },
    {
     "cell_type": "code",
     "collapsed": false,
     "input": [
      "accumulator(100) #Let's pass a grander value as 'inc'. Notice how the output is the 'current' value of 'state' \n",
      "                 #That's because 'state' is the second argument to 'function' - which implies that it's the output. "
     ],
     "language": "python",
     "metadata": {},
     "outputs": []
    },
    {
     "cell_type": "code",
     "collapsed": false,
     "input": [
      "state.get_value()"
     ],
     "language": "python",
     "metadata": {},
     "outputs": []
    },
    {
     "cell_type": "raw",
     "metadata": {},
     "source": [
      "We can also manipulate the value of the shared variable by using the set_value() method, as below"
     ]
    },
    {
     "cell_type": "code",
     "collapsed": false,
     "input": [
      "state.set_value(-10)"
     ],
     "language": "python",
     "metadata": {},
     "outputs": []
    },
    {
     "cell_type": "code",
     "collapsed": false,
     "input": [
      "accumulator(2)"
     ],
     "language": "python",
     "metadata": {},
     "outputs": []
    },
    {
     "cell_type": "code",
     "collapsed": false,
     "input": [
      "state.get_value() #See what happened there? "
     ],
     "language": "python",
     "metadata": {},
     "outputs": []
    },
    {
     "cell_type": "raw",
     "metadata": {},
     "source": [
      "As mentioned earlier, we can define more than one function that operates (and hence manipulates) the same shared variable. Let's now define a function called decrementor that, surprise surprise, decrements the value of the shared variable ('state')"
     ]
    },
    {
     "cell_type": "code",
     "collapsed": false,
     "input": [
      "decrementor = function([inc],state,updates=[(state,state-inc)])"
     ],
     "language": "python",
     "metadata": {},
     "outputs": []
    },
    {
     "cell_type": "code",
     "collapsed": false,
     "input": [
      "decrementor(2) #It first prints the value of state - second argument, remember?"
     ],
     "language": "python",
     "metadata": {},
     "outputs": []
    },
    {
     "cell_type": "code",
     "collapsed": false,
     "input": [
      "state.get_value() #Self explanatory, really"
     ],
     "language": "python",
     "metadata": {},
     "outputs": []
    },
    {
     "cell_type": "raw",
     "metadata": {},
     "source": [
      "It may happen that you declare some formula that is a function of a shared variable. It is possible that during operation, \n",
      "you don't want to use the value of the shared  variable, but want to use some other value. This is made possible using the 'givens' parameter to a function. \n",
      "\n",
      "The 'givens' consists of paris of variables of the form (<var1>,<var2>). Where the variables in each pair must be of the same type. These pairs consists of substitutions to make in the 'computation graph' (explained later). <var2> replaces <var1>. \n",
      "\n",
      "In practice, a good way of thinking about the 'givens' is as a mechanism that allows you to replace any part of your formula with an expression that evaluates to a tensor of the same shape and dtype. It can be used to replace any symbolic variable, not just a shared variable. "
     ]
    },
    {
     "cell_type": "code",
     "collapsed": false,
     "input": [
      "function_of_state = state * 2 + inc #Let's define a formula that is a function of the shared variable ('state')"
     ],
     "language": "python",
     "metadata": {},
     "outputs": []
    },
    {
     "cell_type": "code",
     "collapsed": false,
     "input": [
      "foo = T.scalar(dtype = state.dtype) #Let's create a new variable 'foo' that's of the same type as the share var (state)"
     ],
     "language": "python",
     "metadata": {},
     "outputs": []
    },
    {
     "cell_type": "code",
     "collapsed": false,
     "input": [
      "skip_shared = function([inc,foo],function_of_state,givens=[(state,foo)]) \n",
      "#All occurrences of state will be replaced by foo"
     ],
     "language": "python",
     "metadata": {},
     "outputs": []
    },
    {
     "cell_type": "code",
     "collapsed": false,
     "input": [
      "state.get_value() #Let's see what the current value of the state variable is"
     ],
     "language": "python",
     "metadata": {},
     "outputs": []
    },
    {
     "cell_type": "code",
     "collapsed": false,
     "input": [
      "#The value of state (-10) is overridden by the value of 'foo' (5) in the formula 'function_of state'.\n",
      "#As a result, the function that's actually performed is foo*2 + inc = 5 * 2 + 2 = 12. This doesn't change 'state'\n",
      "skip_shared(2,5) "
     ],
     "language": "python",
     "metadata": {},
     "outputs": []
    },
    {
     "cell_type": "code",
     "collapsed": false,
     "input": [
      "state.get_value() #Just to prove to ourselves that the value of 'state' hasn't changed"
     ],
     "language": "python",
     "metadata": {},
     "outputs": []
    },
    {
     "cell_type": "markdown",
     "metadata": {},
     "source": [
      "### Random / Pseudo-Random Number generation"
     ]
    },
    {
     "cell_type": "raw",
     "metadata": {},
     "source": [
      "Like we discussed earlier, everything in theano is first defined symbolically. It is then compiled to give functions and the like. Therefore, using pseudo random numbers and pseudo random number generators isn't as straightforward as it is in NumPy. \n",
      "\n",
      "What we do to tackle this is to put random variables in the computational graph (the concept of 'the graph' will be discussed later). Theano then allocates a Numpy RandomStream object (a random number generator) to said variable - which is 'drawn from' as necessary. This sequence is referred to (in the Numpy documentation) as a random stream. "
     ]
    },
    {
     "cell_type": "markdown",
     "metadata": {},
     "source": [
      "\n",
      "<NOTE:> At the core, random streams are shared variables - so the same rules that apply to shared variables apply here as well. Theano's random objects are defined and implemented in [RandomStreams](http://deeplearning.net/software/theano/library/tensor/shared_randomstreams.html#libdoc-tensor-shared-randomstreams) and at a lower level in [RandomStreamBase](http://deeplearning.net/software/theano/library/tensor/raw_random.html#libdoc-tensor-raw-random). Distributions (like the 'uniform' and the 'normal' used below) are defined in [RandomStreams](http://deeplearning.net/software/theano/library/tensor/shared_randomstreams.html#libdoc-tensor-shared-randomstreams) and at a lower level in [raw_random](http://deeplearning.net/software/theano/library/tensor/raw_random.html#libdoc-tensor-raw-random)"
     ]
    },
    {
     "cell_type": "code",
     "collapsed": false,
     "input": [
      "from theano.tensor.shared_randomstreams import RandomStreams\n",
      "from theano import function"
     ],
     "language": "python",
     "metadata": {},
     "outputs": []
    },
    {
     "cell_type": "code",
     "collapsed": false,
     "input": [
      "srng = RandomStreams(seed=234)"
     ],
     "language": "python",
     "metadata": {},
     "outputs": []
    },
    {
     "cell_type": "code",
     "collapsed": false,
     "input": [
      "rv_u = srng.uniform((2,2)) #rv_u represents a random stream of 2x2 matrices drawn from the uniform distribution \n",
      "rv_n = srng.normal((2,2)) #rv_n represents a random stream of 2x2 matrices drawn from the normal distribution"
     ],
     "language": "python",
     "metadata": {},
     "outputs": []
    },
    {
     "cell_type": "raw",
     "metadata": {},
     "source": [
      "Let us now use these objects (of type random stream) that we've just defined by defining functions that return numbers generated by these objects"
     ]
    },
    {
     "cell_type": "code",
     "collapsed": false,
     "input": [
      "f = function([],rv_u) #Here, we're defining two functions that take no input but return numbers generated by the\n",
      "g = function([],rv_n) #..random stream objects that we defined in the step immediately above this one. "
     ],
     "language": "python",
     "metadata": {},
     "outputs": []
    },
    {
     "cell_type": "code",
     "collapsed": false,
     "input": [
      "f_val1 = f() #Notice here that by calling the same function twice, we're effectively generating different random numbers\n",
      "f_val2 = f() #.. albeit from the same random stream\n",
      "print(f_val1)\n",
      "print(f_val2)"
     ],
     "language": "python",
     "metadata": {},
     "outputs": []
    },
    {
     "cell_type": "raw",
     "metadata": {},
     "source": [
      "But by changing the definition of the function to ensure that the shared variable (remember, rv_n is a shared variable) is not updated by default, repeated calls to the same function return the same random numbers. (As Below)"
     ]
    },
    {
     "cell_type": "code",
     "collapsed": false,
     "input": [
      "g = function([],rv_n,no_default_updates=True) #See how we're setting the no_default_updates to be 'True'?"
     ],
     "language": "python",
     "metadata": {},
     "outputs": []
    },
    {
     "cell_type": "code",
     "collapsed": false,
     "input": [
      "g_val1 = g() #Repeated calls to the same function are going to yield the same random numbers \n",
      "g_val2 = g() #..(because of the no_default_update)\n",
      "print(g_val1)\n",
      "print(g_val2)"
     ],
     "language": "python",
     "metadata": {},
     "outputs": []
    },
    {
     "cell_type": "raw",
     "metadata": {},
     "source": [
      "Random variables can be either seeded collectively or individually. \n",
      "\n",
      "A single random variable can be seeded by assigning the .rng (rng = random number generator) attribute via the .rng.set_value() method (Remember, these are shared variables that we're talking about , so we have to abide by the interfaces that are provided to manipulate them - get_value() and set_value() being the most common among them). \n",
      "\n",
      "Don't be discouraged by the 'borrow' below. We'll come to it in just a bit. "
     ]
    },
    {
     "cell_type": "code",
     "collapsed": false,
     "input": [
      "rng_val = rv_u.rng.get_value(borrow = True) #Observe the chain of invocation - rv_u, then it's rng (.rng) and ..\n",
      "                                            #..then fetch it's value (.get_value)\n",
      "rng_val.seed(89234) #Seed the random number generator\n",
      "rv_u.rng.set_value(rng_val,borrow = True) #Assign back the seeded random number generator"
     ],
     "language": "python",
     "metadata": {},
     "outputs": []
    },
    {
     "cell_type": "raw",
     "metadata": {},
     "source": [
      "You can also seed all of the random variables allocated by a RandomStreams object by that object's 'seed' method. \n",
      "    This seed will be used to seed a temporary random number generator that will in turn generate seeds for each of the random variables. "
     ]
    },
    {
     "cell_type": "code",
     "collapsed": false,
     "input": [
      "srng.seed(103839) #Remember this from above? We created a RandomStreams object. We now seed this, which in turn\n",
      "                  #will seed all the random variables (rv_u and rv_n included) under it. "
     ],
     "language": "python",
     "metadata": {},
     "outputs": []
    },
    {
     "cell_type": "markdown",
     "metadata": {},
     "source": [
      "__Before you proceed__:, make sure that you read: [Memory Aliasing and the Theano Memory Model](http://127.0.0.1:8889/519f9912-d316-4336-af1e-f78d701a62de). The section linked to explains the need and the use of the <code> borrow</code> used above. "
     ]
    },
    {
     "cell_type": "code",
     "collapsed": false,
     "input": [],
     "language": "python",
     "metadata": {},
     "outputs": []
    }
   ],
   "metadata": {}
  }
 ]
}