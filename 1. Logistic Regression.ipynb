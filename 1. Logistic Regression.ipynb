{
 "metadata": {
  "name": ""
 },
 "nbformat": 3,
 "nbformat_minor": 0,
 "worksheets": [
  {
   "cells": [
    {
     "cell_type": "code",
     "collapsed": false,
     "input": [
      "from theano import *"
     ],
     "language": "python",
     "metadata": {},
     "outputs": [],
     "prompt_number": 1
    },
    {
     "cell_type": "code",
     "collapsed": false,
     "input": [
      "import theano.tensor as T"
     ],
     "language": "python",
     "metadata": {},
     "outputs": [],
     "prompt_number": 2
    },
    {
     "cell_type": "raw",
     "metadata": {},
     "source": [
      "Logistic Regression is a probabilistic classification method that is linear. It is parameterized by a weight matrix (W) and\n",
      "a bias (vector), 'b'. Classification is done by projection the points onto a set of hyperplanes, the distance to which reflects that class membership probability. \n",
      "\n",
      "Mathematically this can be written as:\n",
      "P(y=i| W,x,b) = softmax_i(Wx+b)"
     ]
    },
    {
     "cell_type": "raw",
     "metadata": {},
     "source": [
      "Let's first create symbolic variables ('x' and 'y') corresponding to mini batches"
     ]
    },
    {
     "cell_type": "code",
     "collapsed": false,
     "input": [
      "x = T.fmatrix('x') #Matrix (2D) of float32 \n",
      "y = T.lvector('y') #vector of a long (int64)"
     ],
     "language": "python",
     "metadata": {},
     "outputs": [],
     "prompt_number": 4
    },
    {
     "cell_type": "raw",
     "metadata": {},
     "source": [
      "Let's now create shared symbolic variables corresponding to the model parameters - weights 'W' and bias 'b'"
     ]
    },
    {
     "cell_type": "code",
     "collapsed": false,
     "input": [
      "b= theano.shared(numpy.zeros((10,)),name='b')\n",
      "W = theano.shared(numpy.zeros((784,10)),name='W')"
     ],
     "language": "python",
     "metadata": {},
     "outputs": [],
     "prompt_number": 17
    },
    {
     "cell_type": "raw",
     "metadata": {},
     "source": [
      "Summary:\n",
      "'W' is a matrix where column-k represents the separation hyperplane for class-k\n",
      "'x' is a matrix (data matrix) where the jth row corresponds to the jth data point\n",
      "'b' is a vector where element-k represents the free parameter (bias) of the kth hyperplane"
     ]
    },
    {
     "cell_type": "raw",
     "metadata": {},
     "source": [
      "New features to watch out for:\n",
      "1. T.nnet\n",
      "2. T.nnet.softmax\n",
      "3. T.dot(a,b)"
     ]
    },
    {
     "cell_type": "code",
     "collapsed": false,
     "input": [
      "p_y_given_x = T.nnet.softmax(T.dot(x,W) + b) "
     ],
     "language": "python",
     "metadata": {},
     "outputs": [],
     "prompt_number": 18
    },
    {
     "cell_type": "code",
     "collapsed": false,
     "input": [
      "get_p_y_given_x = function(inputs=[x],outputs = p_y_given_x)"
     ],
     "language": "python",
     "metadata": {},
     "outputs": [],
     "prompt_number": 19
    },
    {
     "cell_type": "code",
     "collapsed": false,
     "input": [
      "print 'Probability that x is of class %i is %f' % (i,get_p_y_given_x(x_value)[i])"
     ],
     "language": "python",
     "metadata": {},
     "outputs": [
      {
       "ename": "NameError",
       "evalue": "name 'i' is not defined",
       "output_type": "pyerr",
       "traceback": [
        "\u001b[1;31m---------------------------------------------------------------------------\u001b[0m\n\u001b[1;31mNameError\u001b[0m                                 Traceback (most recent call last)",
        "\u001b[1;32m<ipython-input-20-7a3d1c3df38f>\u001b[0m in \u001b[0;36m<module>\u001b[1;34m()\u001b[0m\n\u001b[1;32m----> 1\u001b[1;33m \u001b[1;32mprint\u001b[0m \u001b[1;34m'Probability that x is of class %i is %f'\u001b[0m \u001b[1;33m%\u001b[0m \u001b[1;33m(\u001b[0m\u001b[0mi\u001b[0m\u001b[1;33m,\u001b[0m\u001b[0mget_p_y_given_x\u001b[0m\u001b[1;33m(\u001b[0m\u001b[0mx_value\u001b[0m\u001b[1;33m)\u001b[0m\u001b[1;33m[\u001b[0m\u001b[0mi\u001b[0m\u001b[1;33m]\u001b[0m\u001b[1;33m)\u001b[0m\u001b[1;33m\u001b[0m\u001b[0m\n\u001b[0m",
        "\u001b[1;31mNameError\u001b[0m: name 'i' is not defined"
       ]
      }
     ],
     "prompt_number": 20
    }
   ],
   "metadata": {}
  }
 ]
}